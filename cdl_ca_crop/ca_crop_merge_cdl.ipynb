{
 "cells": [
  {
   "cell_type": "code",
   "execution_count": 2,
   "metadata": {},
   "outputs": [],
   "source": [
    "import rasterio\n",
    "from osgeo import gdal\n",
    "from osgeo import ogr"
   ]
  },
  {
   "cell_type": "markdown",
   "metadata": {},
   "source": [
    "### EDA original Geotiff"
   ]
  },
  {
   "cell_type": "code",
   "execution_count": null,
   "metadata": {},
   "outputs": [],
   "source": [
    "org_ds = gdal.Open('cdl_2022_original.tiff')\n",
    "print(org_ds.GetGeoTransform())\n",
    "print(org_ds.GetProjection())"
   ]
  },
  {
   "cell_type": "markdown",
   "metadata": {},
   "source": [
    "### Make individual rasters from each attribute in vector data"
   ]
  },
  {
   "cell_type": "code",
   "execution_count": null,
   "metadata": {},
   "outputs": [],
   "source": [
    "reference_raster = '/home/kenny/repos/flavortown/cdl/cdl_ca_crop/cdl_2022_test.tiff'\n",
    "ref_ds = gdal.Open(reference_raster)\n",
    "print(ref_ds.RasterXSize)\n",
    "print(ref_ds.RasterYSize)"
   ]
  },
  {
   "cell_type": "code",
   "execution_count": 7,
   "metadata": {},
   "outputs": [
    {
     "name": "stderr",
     "output_type": "stream",
     "text": [
      "/home/kenny/miniconda3/envs/DS/lib/python3.12/site-packages/osgeo/ogr.py:593: FutureWarning: Neither ogr.UseExceptions() nor ogr.DontUseExceptions() has been explicitly called. In GDAL 4.0, exceptions will be enabled by default.\n",
      "  warnings.warn(\n"
     ]
    },
    {
     "name": "stdout",
     "output_type": "stream",
     "text": [
      "Rasterization completed.\n"
     ]
    }
   ],
   "source": [
    "def create_geotiff(input_file, output_file, attribute_name, attribute_dtype, attribute_colorinterp, reference_raster):\n",
    "    # Open the FlatGeoBuf file\n",
    "    data_source = ogr.Open(input_file)\n",
    "\n",
    "    if data_source is None:\n",
    "        print(\"Error: Could not open the FlatGeoBuf file.\")\n",
    "        return\n",
    "\n",
    "    # Get the layer\n",
    "    layer = data_source.GetLayer()\n",
    "\n",
    "    # Open the reference raster to get its geotransform and spatial reference\n",
    "    ref_ds = gdal.Open(reference_raster)\n",
    "    if ref_ds is None:\n",
    "        print(\"Error: Could not open the reference raster.\")\n",
    "        return\n",
    "\n",
    "    # Create a raster GeoTIFF file with the same extent, resolution, and pixel alignment as the reference raster\n",
    "    raster_ds = gdal.GetDriverByName('GTiff').Create(output_file, ref_ds.RasterXSize, ref_ds.RasterYSize, 1, attribute_dtype, options=[\"COMPRESS=DEFLATE\", \"BIGTIFF=YES\"])\n",
    "\n",
    "    # Set the geotransform using the reference raster\n",
    "    raster_ds.SetGeoTransform(ref_ds.GetGeoTransform())\n",
    "\n",
    "    # Set the projection\n",
    "    raster_ds.SetProjection(ref_ds.GetProjection())\n",
    "\n",
    "    # Rasterize the attribute to the GeoTIFF file\n",
    "    band = raster_ds.GetRasterBand(1)\n",
    "    gdal.RasterizeLayer(raster_ds, [1], layer, options=[\"ATTRIBUTE=\" + attribute_name])\n",
    "\n",
    "    # Set ColorInterp to something other than \"gray\" (e.g., \"Red\", \"Green\", \"Blue\", \"Palette\", etc.)\n",
    "    band.SetColorInterpretation(attribute_colorinterp)  # Change GCI_RedBand to the desired interpretation\n",
    "\n",
    "    # Close datasets\n",
    "    raster_ds = None\n",
    "    data_source = None\n",
    "    ref_ds = None\n",
    "\n",
    "# Replace 'input_file' with the path to your FlatGeoBuf file\n",
    "input_file = '/home/kenny/repos/flavortown/cdl/cdl_ca_crop/2022/ca_crop_2022.fgb'\n",
    "\n",
    "# Replace 'output_directory' with the directory where you want to save the GeoTIFF files\n",
    "output_directory = '/home/kenny/repos/flavortown/cdl/cdl_ca_crop/'\n",
    "\n",
    "# Replace 'attribute_names' with the names of the attributes you want to rasterize\n",
    "attribute_names = {\n",
    "    'yr_planted': {\"dtype\": gdal.GDT_Int32, \"colorinterp\": gdal.GCI_GrayIndex},\n",
    "    'crop_id1': {\"dtype\": gdal.GDT_Byte, \"colorinterp\": gdal.GCI_PaletteIndex},\n",
    "    'crop_id2': {\"dtype\": gdal.GDT_Byte, \"colorinterp\": gdal.GCI_PaletteIndex},\n",
    "    'crop_id3': {\"dtype\": gdal.GDT_Byte, \"colorinterp\": gdal.GCI_PaletteIndex},\n",
    "    'crop_id4': {\"dtype\": gdal.GDT_Byte, \"colorinterp\": gdal.GCI_PaletteIndex}\n",
    "    }\n",
    "\n",
    "# Replace 'reference_raster' with the path to your existing raster file\n",
    "reference_raster = '/home/kenny/repos/flavortown/cdl/cdl_ca_crop/cdl_2022_test.tiff'\n",
    "\n",
    "for attribute_name in attribute_names.keys():\n",
    "    attribute_dtype = attribute_names[attribute_name]['dtype']\n",
    "    attribute_colorinterp = attribute_names[attribute_name]['colorinterp']\n",
    "    output_file = f\"{output_directory}{attribute_name}.tif\"\n",
    "    create_geotiff(input_file, output_file, attribute_name, attribute_dtype, attribute_colorinterp, reference_raster)\n",
    "\n",
    "print(\"Rasterization completed.\")\n"
   ]
  },
  {
   "cell_type": "markdown",
   "metadata": {},
   "source": [
    "***"
   ]
  },
  {
   "cell_type": "markdown",
   "metadata": {},
   "source": [
    "### Stack Geotiffs and build multi-band raster"
   ]
  },
  {
   "cell_type": "code",
   "execution_count": null,
   "metadata": {},
   "outputs": [],
   "source": [
    "import rasterio\n",
    "\n",
    "file_list = [\n",
    "    #'cdl_2022_test.tiff',\n",
    "    'yr_planted.tif',\n",
    "    'crop_id1.tif',\n",
    "    'crop_id2.tif',\n",
    "    'crop_id3.tif',\n",
    "    'crop_id4.tif'\n",
    "]\n",
    "\n",
    "# Read metadata of first file\n",
    "with rasterio.open(file_list[0]) as src0:\n",
    "    meta = src0.meta\n",
    "\n",
    "# Update meta to reflect the number of layers\n",
    "meta.update(count=len(file_list), compress='deflate', bigtiff='yes')\n",
    "\n",
    "# Create the stack dataset\n",
    "with rasterio.open('stack.tif', 'w', **meta) as dst:\n",
    "    for id, layer in enumerate(file_list, start=1):\n",
    "        with rasterio.open(layer) as src1:\n",
    "            # Read all bands and write to the corresponding band in the output file\n",
    "            for band_idx in range(1, src1.count + 1):\n",
    "                band_data = src1.read(band_idx)\n",
    "                dst.write(band_data, indexes=id)\n",
    "\n",
    "\n",
    "# file_list = [\n",
    "#     'cdl_2022_test.tiff',\n",
    "#     'yr_planted.tif',\n",
    "#     'crop_id1.tif',\n",
    "#     'crop_id2.tif',\n",
    "#     'crop_id3.tif',\n",
    "#     'crop_id4.tif'\n",
    "# ]\n",
    "\n",
    "# # Read metadata of first file\n",
    "# with rasterio.open(file_list[0]) as src0:\n",
    "#     meta = src0.meta\n",
    "\n",
    "# # Update meta to reflect the number of layers\n",
    "# meta.update(count = len(file_list))\n",
    "\n",
    "# # Read each layer and write it to stack\n",
    "# with rasterio.open('stack.tif', 'w', **meta) as dst:\n",
    "#     for id, layer in enumerate(file_list, start=1):\n",
    "#         with rasterio.open(layer) as src1:\n",
    "#             dst.write_band(id, src1.read(1))"
   ]
  }
 ],
 "metadata": {
  "kernelspec": {
   "display_name": "DS",
   "language": "python",
   "name": "python3"
  },
  "language_info": {
   "codemirror_mode": {
    "name": "ipython",
    "version": 3
   },
   "file_extension": ".py",
   "mimetype": "text/x-python",
   "name": "python",
   "nbconvert_exporter": "python",
   "pygments_lexer": "ipython3",
   "version": "3.12.2"
  }
 },
 "nbformat": 4,
 "nbformat_minor": 2
}
